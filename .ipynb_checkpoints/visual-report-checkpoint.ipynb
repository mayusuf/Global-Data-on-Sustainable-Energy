{
 "cells": [
  {
   "cell_type": "markdown",
   "id": "f89057f4",
   "metadata": {},
   "source": [
    "## Visual Report"
   ]
  },
  {
   "cell_type": "markdown",
   "id": "2ecab2e8",
   "metadata": {},
   "source": [
    "### 3. Top 10 Countries electricity supply from fossil, nuclear and renewable energy"
   ]
  },
  {
   "cell_type": "code",
   "execution_count": null,
   "id": "7a579611",
   "metadata": {},
   "outputs": [],
   "source": [
    "total_electricity_by_country  = data_cln.groupby('entity')[['electricity_from_nuclear_twh','electricity_from_fossil_fuels_twh','electricity_from_renewables_twh']].sum().reset_index()\n",
    "\n",
    "total_electricity_by_country['total_energy'] = total_electricity_by_country.iloc[:, 1:4].sum(axis=1)\n",
    "\n",
    "\n",
    "total_electricity_by_country = pd.Series(total_electricity_by_country['total_energy'].values, index = total_electricity_by_country['entity'])\n",
    "\n",
    "\n",
    "top_10_total_electricity_by_country = total_electricity_by_country.nlargest(10)\n",
    "\n",
    "plt.figure(figsize = (10, 6))\n",
    "sns.barplot(x = top_10_total_electricity_by_country.index, y = top_10_total_electricity_by_country.values)\n",
    "plt.xlabel('Country')\n",
    "plt.ylabel('Total fossil, nuclear and renewable energy (twh)')\n",
    "plt.title('Top 10 Countries with electricity from fossil, nuclear and renewable energy (twh)')\n",
    "\n",
    "plt.xticks(rotation = 45, ha = 'center')\n",
    "\n",
    "plt.tight_layout()\n",
    "plt.show()"
   ]
  },
  {
   "cell_type": "markdown",
   "id": "43cf51ce",
   "metadata": {},
   "source": [
    "### 4. Top 10 Countries electricity supply from renewable energy"
   ]
  },
  {
   "cell_type": "code",
   "execution_count": null,
   "id": "0d23d442",
   "metadata": {},
   "outputs": [],
   "source": [
    "avg_electricity_from_renewables_by_country  = data_cln.groupby('entity')['electricity_from_renewables_twh'].sum()\n",
    "top_10_renu_countries = avg_electricity_from_renewables_by_country.nlargest(10)\n",
    "\n",
    "plt.figure(figsize = (10, 6))\n",
    "sns.barplot(x = top_10_renu_countries.index, y = top_10_renu_countries.values)\n",
    "plt.xlabel('Country')\n",
    "plt.ylabel('Electricity From Renewables Energy')\n",
    "plt.title('Top 10 Countries with electricity from renewable energy (twh)')\n",
    "\n",
    "plt.xticks(rotation = 45, ha = 'center')\n",
    "\n",
    "plt.tight_layout()\n",
    "plt.show()"
   ]
  },
  {
   "cell_type": "markdown",
   "id": "db18be3c",
   "metadata": {},
   "source": [
    "### 5. Top 10 Countries with most CO2 Emissions"
   ]
  },
  {
   "cell_type": "code",
   "execution_count": null,
   "id": "5bc43242",
   "metadata": {},
   "outputs": [],
   "source": [
    "avg_co2_emission_by_country  = data_cln.groupby('entity')['value_co2_emissions_kt_by_country'].sum()\n",
    "top_10_countries = avg_co2_emission_by_country.nlargest(10)\n",
    "\n",
    "plt.figure(figsize = (10, 6))\n",
    "sns.barplot(x = top_10_countries.index, y = top_10_countries.values)\n",
    "plt.xlabel('Country')\n",
    "plt.ylabel('CO2 Emissions (kT x 1e6)')\n",
    "plt.title('Top 10 Countries with Highest CO2 Emissions')\n",
    "\n",
    "plt.xticks(rotation = 45, ha = 'center')\n",
    "\n",
    "plt.tight_layout()\n",
    "plt.show()"
   ]
  },
  {
   "cell_type": "markdown",
   "id": "85761cd8",
   "metadata": {},
   "source": [
    "### 6.Compare Electricity production from fossil and renewable sources (By Year)"
   ]
  },
  {
   "cell_type": "code",
   "execution_count": null,
   "id": "d99350e0",
   "metadata": {},
   "outputs": [],
   "source": [
    "br= 0.5\n",
    "plt.figure(figsize=(12,8))\n",
    "plt.barh(data_cln[\"year\"], data_cln[\"electricity_from_fossil_fuels_twh\"], height = br , label=\"Electricity produce from fossil\")\n",
    "plt.barh(data_cln[\"year\"] , data_cln[\"electricity_from_renewables_twh\"], align ='edge', height=br-.2, label=\"Electricity produce from renewable energy\" )\n",
    "plt.yticks(data_cln[\"year\"])\n",
    "\n",
    "plt.legend(fontsize=12)\n",
    "plt.ylabel(\"Years\", fontsize=12)\n",
    "plt.xlabel(\"Measure in TWH\", fontsize=12)\n",
    "plt.title(\"Compare Electricity production from fossil and renewable source (By Year)\", fontsize=14)\n",
    "plt.xlim(0, 10000)\n",
    "plt.show()"
   ]
  },
  {
   "cell_type": "markdown",
   "id": "45f410c1",
   "metadata": {},
   "source": [
    "### 7. CO2 Emission and Per Person Health Expense(USD)"
   ]
  },
  {
   "cell_type": "code",
   "execution_count": null,
   "id": "0a37a2df",
   "metadata": {},
   "outputs": [],
   "source": [
    "year_wise_co2 = data_cln.groupby('year')['value_co2_emissions_kt_by_country'].mean()\n",
    "df_year_wise_co2 = pd.DataFrame({'year':year_wise_co2.index, 'quantity':year_wise_co2.values})\n",
    "\n",
    "year_wise_healt_epnd_per_capita = data_cln.groupby('year')['health_expenditure_per_capita'].mean()\n",
    "df_year_wise_healt_epnd_per_capita = pd.DataFrame({'year':year_wise_healt_epnd_per_capita.index, 'USD':year_wise_healt_epnd_per_capita.values})\n",
    "\n",
    "year_wise_healt_epnd_per_capita = data_cln.groupby('year')['health_expenditure_per_capita'].mean()\n",
    "df_year_wise_healt_epnd_per_capita = pd.DataFrame({'year':year_wise_healt_epnd_per_capita.index, 'USD':year_wise_healt_epnd_per_capita.values})"
   ]
  },
  {
   "cell_type": "code",
   "execution_count": null,
   "id": "a5d3b3df",
   "metadata": {},
   "outputs": [],
   "source": [
    "plt.figure(figsize=(10,5))\n",
    "sns.regplot(data = df_year_wise_co2, x=\"year\", y=\"quantity\", order=3)\n",
    "plt.title(\"Regression plot for CO2 Emission\")\n",
    "plt.show()"
   ]
  },
  {
   "cell_type": "code",
   "execution_count": null,
   "id": "64499387",
   "metadata": {},
   "outputs": [],
   "source": [
    "plt.figure(figsize=(10,5))\n",
    "sns.regplot(data = df_year_wise_healt_epnd_per_capita, x=\"year\", y=\"USD\", order=3)\n",
    "plt.title(\"Regression plot for Per Person Health Expense\")\n",
    "plt.show()"
   ]
  },
  {
   "cell_type": "markdown",
   "id": "0174e98a",
   "metadata": {},
   "source": [
    "### 8. How Forest is decreasing from the year 2000 to 2020"
   ]
  },
  {
   "cell_type": "code",
   "execution_count": null,
   "id": "e15354f4",
   "metadata": {},
   "outputs": [],
   "source": [
    "df_year_wise_forest_s2km = data_cln.groupby('year')['forest_area_s2km'].mean()\n",
    "\n",
    "plt.figure(figsize = (10, 6))\n",
    "sns.barplot(x = df_year_wise_forest_s2km.index, y = df_year_wise_forest_s2km.values)\n",
    "\n",
    "plt.title('Average Forest Land decrease by year')\n",
    "plt.xlabel('Year')\n",
    "plt.ylabel('Square Kilometer')\n",
    "\n",
    "plt.xticks(rotation = 45, ha = 'center')\n",
    "\n",
    "plt.tight_layout()\n",
    "plt.show()"
   ]
  }
 ],
 "metadata": {
  "kernelspec": {
   "display_name": "Python 3 (ipykernel)",
   "language": "python",
   "name": "python3"
  },
  "language_info": {
   "codemirror_mode": {
    "name": "ipython",
    "version": 3
   },
   "file_extension": ".py",
   "mimetype": "text/x-python",
   "name": "python",
   "nbconvert_exporter": "python",
   "pygments_lexer": "ipython3",
   "version": "3.11.5"
  }
 },
 "nbformat": 4,
 "nbformat_minor": 5
}
