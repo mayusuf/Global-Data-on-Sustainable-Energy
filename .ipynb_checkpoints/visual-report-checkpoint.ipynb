{
 "cells": [
  {
   "cell_type": "markdown",
   "id": "f89057f4",
   "metadata": {},
   "source": [
    "## Visual Report"
   ]
  },
  {
   "cell_type": "markdown",
   "id": "7d4e8f32",
   "metadata": {},
   "source": [
    "#### Function to plot features on world map"
   ]
  },
  {
   "cell_type": "code",
   "execution_count": null,
   "id": "7cab0cb3",
   "metadata": {},
   "outputs": [],
   "source": [
    "def plot_world_map(column_name, title):\n",
    "    fig = go.Figure()\n",
    "    for year in range(2000, 2021):\n",
    "        # Filter the data for the current year\n",
    "        filtered_df = data_cln[data_cln['year'] == year]\n",
    "\n",
    "        # Create a choropleth trace for the current year\n",
    "        trace = go.Choropleth(\n",
    "            locations=filtered_df['entity'],\n",
    "            z=filtered_df[column_name],\n",
    "            locationmode='country names',\n",
    "            colorscale='Electric',  # Use a different color scale for better contrast\n",
    "            colorbar=dict(title='Index'),\n",
    "            zmin=df[column_name].min(),\n",
    "            zmax=df[column_name].max(),\n",
    "            visible=False  # Set the trace to invisible initially\n",
    "        )\n",
    "\n",
    "        # Add the trace to the figure\n",
    "        fig.add_trace(trace)\n",
    "\n",
    "    # Set the first trace to visible\n",
    "    fig.data[0].visible = True\n",
    "\n",
    "    # Create animation steps\n",
    "    steps = []\n",
    "    for i in range(len(fig.data)):\n",
    "        step = dict(\n",
    "            method='update',\n",
    "            args=[{'visible': [False] * len(fig.data)},  # Set all traces to invisible\n",
    "                  {'title_text': f'{column_name} Map - {2000 + i}', 'frame': {'duration': 1000, 'redraw': True}}],\n",
    "            label=str(2000 + i)  # Set the label for each step\n",
    "        )\n",
    "        step['args'][0]['visible'][i] = True  # Set the current trace to visible\n",
    "        steps.append(step)\n",
    "\n",
    "    # Create the slider\n",
    "    sliders = [dict(\n",
    "        active=0,\n",
    "        steps=steps,\n",
    "        currentvalue={\"prefix\": \"Year: \", \"font\": {\"size\": 14}},  # Increase font size for slider label\n",
    "    )]\n",
    "\n",
    "    # Update the layout of the figure with increased size and change the template\n",
    "    fig.update_layout(\n",
    "        title_text=f'{title} Map with slider',  # Set the initial title\n",
    "        title_font_size=24,  # Increase title font size\n",
    "        title_x=0.5,  # Center the title\n",
    "        geo=dict(\n",
    "            showframe=True,\n",
    "            showcoastlines=True,\n",
    "            projection_type='natural earth'\n",
    "        ),\n",
    "        sliders=sliders,\n",
    "        height=500,  # Set the height of the figure in pixels\n",
    "        width=1000,  # Set the width of the figure in pixels\n",
    "        font=dict(family='Arial', size=12),  # Customize font family and size for the whole figure\n",
    "        margin=dict(t=80, l=50, r=50, b=50),  # Add margin for better layout spacing\n",
    "        template='plotly_white',  # Change the template to 'plotly_dark'\n",
    "    )\n",
    "\n",
    "    # Show the figure\n",
    "    fig.show()"
   ]
  },
  {
   "cell_type": "markdown",
   "id": "f23e9180",
   "metadata": {},
   "source": [
    "### 1. Access to Electricity of Population(%) (By Country with Map Slider)"
   ]
  },
  {
   "cell_type": "code",
   "execution_count": null,
   "id": "7149b91e",
   "metadata": {},
   "outputs": [],
   "source": [
    "column_name = 'access_to_electricity_of_population'\n",
    "title = 'Access to Electricity of Population(%)'\n",
    "plot_world_map(column_name, title)"
   ]
  },
  {
   "cell_type": "markdown",
   "id": "6253a3fa",
   "metadata": {},
   "source": [
    "### 2. Renewable Energy  percentage(%) of total final energy consumption (By Country with Map Slider)"
   ]
  },
  {
   "cell_type": "code",
   "execution_count": null,
   "id": "5ca99a43",
   "metadata": {},
   "outputs": [],
   "source": [
    "column_name = 'renewable_energy_share_in_the_total_final_energy_consumption'\n",
    "title = 'Renewable Energy  percentage(%) of total final energy consumption'\n",
    "plot_world_map(column_name, title)"
   ]
  },
  {
   "cell_type": "markdown",
   "id": "2ecab2e8",
   "metadata": {},
   "source": [
    "### 3. Top 10 Countries with electricity from renewable energy"
   ]
  },
  {
   "cell_type": "code",
   "execution_count": null,
   "id": "0d23d442",
   "metadata": {},
   "outputs": [],
   "source": [
    "avg_electricity_from_renewables_by_country  = data_cln.groupby('entity')['electricity_from_renewables_twh'].mean()\n",
    "top_10_renu_countries = avg_electricity_from_renewables_by_country.nlargest(10)\n",
    "\n",
    "plt.figure(figsize = (10, 6))\n",
    "sns.barplot(x = top_10_renu_countries.index, y = top_10_renu_countries.values)\n",
    "plt.xlabel('Country')\n",
    "plt.ylabel('Average Electricity From Renewables Energy')\n",
    "plt.title('Top 10 Countries with electricity(Average) from renewable energy (twh)')\n",
    "\n",
    "plt.xticks(rotation = 45, ha = 'center')\n",
    "\n",
    "plt.tight_layout()\n",
    "plt.show()"
   ]
  },
  {
   "cell_type": "markdown",
   "id": "db18be3c",
   "metadata": {},
   "source": [
    "### 4. Top 10 Countries with most CO2 Emissions"
   ]
  },
  {
   "cell_type": "code",
   "execution_count": null,
   "id": "5bc43242",
   "metadata": {},
   "outputs": [],
   "source": [
    "avg_co2_emission_by_country  = data_cln.groupby('entity')['value_co2_emissions_kt_by_country'].mean()\n",
    "top_10_countries = avg_co2_emission_by_country.nlargest(10)\n",
    "\n",
    "plt.figure(figsize = (10, 6))\n",
    "sns.barplot(x = top_10_countries.index, y = top_10_countries.values)\n",
    "plt.xlabel('Country')\n",
    "plt.ylabel('Average CO2 Emissions (kT x 1e6)')\n",
    "plt.title('Top 10 Countries with Highest(Average) CO2 Emissions')\n",
    "\n",
    "plt.xticks(rotation = 45, ha = 'center')\n",
    "\n",
    "plt.tight_layout()\n",
    "plt.show()"
   ]
  },
  {
   "cell_type": "markdown",
   "id": "85761cd8",
   "metadata": {},
   "source": [
    "### 5.Compare Electricity production from fossil and renewable source (By Year)"
   ]
  },
  {
   "cell_type": "code",
   "execution_count": null,
   "id": "d99350e0",
   "metadata": {},
   "outputs": [],
   "source": [
    "br= 0.5\n",
    "plt.figure(figsize=(12,8))\n",
    "plt.barh(data_cln[\"year\"], data_cln[\"electricity_from_fossil_fuels_twh\"], height = br , label=\"Electricity produce from fossil\")\n",
    "plt.barh(data_cln[\"year\"] , data_cln[\"electricity_from_renewables_twh\"], align ='edge', height=br-.2, label=\"Electricity produce from renewable energy\" )\n",
    "plt.yticks(data_cln[\"year\"])\n",
    "\n",
    "plt.legend(fontsize=12)\n",
    "plt.ylabel(\"Years\", fontsize=12)\n",
    "plt.xlabel(\"Measure in TWH\", fontsize=12)\n",
    "plt.title(\"Compare Electricity production from fossil and renewable source (By Year)\", fontsize=14)\n",
    "plt.xlim(0, 10000)\n",
    "plt.show()"
   ]
  },
  {
   "cell_type": "markdown",
   "id": "45f410c1",
   "metadata": {},
   "source": [
    "### 6. CO2 Emission and PP Health Expense(USD)"
   ]
  },
  {
   "cell_type": "code",
   "execution_count": null,
   "id": "0a37a2df",
   "metadata": {},
   "outputs": [],
   "source": [
    "year_wise_co2 = data_cln.groupby('year')['value_co2_emissions_kt_by_country'].mean()\n",
    "df_year_wise_co2 = pd.DataFrame({'year':year_wise_co2.index, 'quantity':year_wise_co2.values})\n",
    "\n",
    "year_wise_healt_epnd_per_capita = data_cln.groupby('year')['health_expenditure_per_capita'].mean()\n",
    "df_year_wise_healt_epnd_per_capita = pd.DataFrame({'year':year_wise_healt_epnd_per_capita.index, 'USD':year_wise_healt_epnd_per_capita.values})\n",
    "\n",
    "year_wise_healt_epnd_per_capita = data_cln.groupby('year')['health_expenditure_per_capita'].mean()\n",
    "df_year_wise_healt_epnd_per_capita = pd.DataFrame({'year':year_wise_healt_epnd_per_capita.index, 'USD':year_wise_healt_epnd_per_capita.values})"
   ]
  },
  {
   "cell_type": "code",
   "execution_count": null,
   "id": "a5d3b3df",
   "metadata": {},
   "outputs": [],
   "source": [
    "plt.figure(figsize=(10,5))\n",
    "sns.regplot(data = df_year_wise_co2, x=\"year\", y=\"quantity\", order=3)\n",
    "plt.title(\"Regression plot for CO2 Emission\")\n",
    "plt.show()"
   ]
  },
  {
   "cell_type": "code",
   "execution_count": null,
   "id": "64499387",
   "metadata": {},
   "outputs": [],
   "source": [
    "plt.figure(figsize=(10,5))\n",
    "sns.regplot(data = df_year_wise_healt_epnd_per_capita, x=\"year\", y=\"USD\", order=3)\n",
    "plt.title(\"Regression plot for PP Health Expense\")\n",
    "plt.show()"
   ]
  },
  {
   "cell_type": "markdown",
   "id": "0174e98a",
   "metadata": {},
   "source": [
    "### 7. How Forest is dcreasing from 2000 to 2020"
   ]
  },
  {
   "cell_type": "code",
   "execution_count": null,
   "id": "e15354f4",
   "metadata": {},
   "outputs": [],
   "source": [
    "df_year_wise_forest_s2km = data_cln.groupby('year')['forest_area_s2km'].mean()\n",
    "\n",
    "plt.figure(figsize = (10, 6))\n",
    "sns.barplot(x = df_year_wise_forest_s2km.index, y = df_year_wise_forest_s2km.values)\n",
    "\n",
    "plt.title('Average Forest Land decrease by year')\n",
    "plt.xlabel('Year')\n",
    "plt.ylabel('Square Kilometer')\n",
    "\n",
    "plt.xticks(rotation = 45, ha = 'center')\n",
    "\n",
    "plt.tight_layout()\n",
    "plt.show()"
   ]
  }
 ],
 "metadata": {
  "kernelspec": {
   "display_name": "Python 3 (ipykernel)",
   "language": "python",
   "name": "python3"
  },
  "language_info": {
   "codemirror_mode": {
    "name": "ipython",
    "version": 3
   },
   "file_extension": ".py",
   "mimetype": "text/x-python",
   "name": "python",
   "nbconvert_exporter": "python",
   "pygments_lexer": "ipython3",
   "version": "3.11.5"
  }
 },
 "nbformat": 4,
 "nbformat_minor": 5
}
