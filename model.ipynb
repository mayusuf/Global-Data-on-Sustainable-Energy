{
 "cells": [
  {
   "cell_type": "code",
   "execution_count": null,
   "id": "f5e1a4ab",
   "metadata": {},
   "outputs": [],
   "source": [
    "y = numerical[target]\n",
    "X = numerical[features]"
   ]
  },
  {
   "cell_type": "markdown",
   "id": "5091ca6f",
   "metadata": {},
   "source": [
    "#### Splitting the dataset into train and test\n"
   ]
  },
  {
   "cell_type": "code",
   "execution_count": null,
   "id": "878b93b3",
   "metadata": {},
   "outputs": [],
   "source": [
    "x_train, x_test, y_train, y_test = train_test_split(X, y, test_size = input_test_size, random_state = 42)"
   ]
  },
  {
   "cell_type": "markdown",
   "id": "f512f29e",
   "metadata": {},
   "source": [
    "#### Feature scaling"
   ]
  },
  {
   "cell_type": "code",
   "execution_count": null,
   "id": "b0ea4b47",
   "metadata": {},
   "outputs": [],
   "source": [
    "scaler = StandardScaler()\n",
    "x_train_scaled = scaler.fit_transform(x_train)\n",
    "x_test_scaled = scaler.transform(x_test)"
   ]
  },
  {
   "cell_type": "markdown",
   "id": "e614dd16",
   "metadata": {},
   "source": [
    "## Model training"
   ]
  },
  {
   "cell_type": "markdown",
   "id": "ebedcf7e",
   "metadata": {},
   "source": [
    "### Performing Grid Search for hyperparameters and Training the models"
   ]
  },
  {
   "cell_type": "markdown",
   "id": "3aa928fb",
   "metadata": {},
   "source": [
    "#### Random Forest"
   ]
  },
  {
   "cell_type": "code",
   "execution_count": null,
   "id": "3bc16a4d",
   "metadata": {},
   "outputs": [],
   "source": [
    "rf_param_grid = {'n_estimators': [100, 300, 500], 'max_depth': [None, 10, 20], 'min_samples_split': [2, 5, 10]}\n",
    "rf_model = RandomForestRegressor(random_state=42)\n",
    "rf_grid_search = GridSearchCV(estimator=rf_model, param_grid=rf_param_grid, scoring='neg_mean_squared_error', cv=5)\n",
    "rf_grid_search.fit(x_train_scaled, y_train)\n",
    "best_rf_params = rf_grid_search.best_params_"
   ]
  },
  {
   "cell_type": "markdown",
   "id": "3fdadfee",
   "metadata": {},
   "source": [
    "#### Gradient Boosting"
   ]
  },
  {
   "cell_type": "code",
   "execution_count": null,
   "id": "0567c194",
   "metadata": {},
   "outputs": [],
   "source": [
    "gb_param_grid = {'n_estimators': [100, 300, 500], 'max_depth': [3, 5, 7], 'learning_rate': [0.01, 0.1, 0.2]}\n",
    "gb_model = GradientBoostingRegressor(random_state=42)\n",
    "gb_grid_search = GridSearchCV(estimator=gb_model, param_grid=gb_param_grid, scoring='neg_mean_squared_error', cv=5)\n",
    "gb_grid_search.fit(x_train_scaled, y_train)\n",
    "best_gb_params = gb_grid_search.best_params_"
   ]
  },
  {
   "cell_type": "markdown",
   "id": "d1996f46",
   "metadata": {},
   "source": [
    "#### Initialize model "
   ]
  },
  {
   "cell_type": "code",
   "execution_count": null,
   "id": "47a1c50a",
   "metadata": {},
   "outputs": [],
   "source": [
    "random_forest_model = RandomForestRegressor(**best_rf_params, random_state=42)\n",
    "gradient_boosting_model = GradientBoostingRegressor(**best_gb_params, random_state=42)\n",
    "linear_regression_model = LinearRegression()"
   ]
  },
  {
   "cell_type": "markdown",
   "id": "bc41bd31",
   "metadata": {},
   "source": [
    "#### Training"
   ]
  },
  {
   "cell_type": "code",
   "execution_count": null,
   "id": "f2175603",
   "metadata": {},
   "outputs": [],
   "source": [
    "random_forest_model.fit(x_train_scaled, y_train)\n",
    "gradient_boosting_model.fit(x_train_scaled, y_train)\n",
    "linear_regression_model.fit(x_train_scaled, y_train)"
   ]
  },
  {
   "cell_type": "markdown",
   "id": "1b302455",
   "metadata": {},
   "source": [
    "##  Predictions and Evaluation\n",
    "#### Predictions"
   ]
  },
  {
   "cell_type": "code",
   "execution_count": null,
   "id": "b742d7d4",
   "metadata": {},
   "outputs": [],
   "source": [
    "rforest_predictions = random_forest_model.predict(x_test_scaled)\n",
    "linreg_predictions = linear_regression_model.predict(x_test_scaled)\n",
    "gradboost_predictions = gradient_boosting_model.predict(x_test_scaled)"
   ]
  },
  {
   "cell_type": "markdown",
   "id": "336d8fa2",
   "metadata": {},
   "source": [
    "#### Evaluation"
   ]
  },
  {
   "cell_type": "code",
   "execution_count": null,
   "id": "d29a437a",
   "metadata": {},
   "outputs": [],
   "source": [
    "rf_mse = mean_squared_error(y_test, rforest_predictions)\n",
    "lr_mse = mean_squared_error(y_test, linreg_predictions)\n",
    "gb_mse = mean_squared_error(y_test, gradboost_predictions)"
   ]
  },
  {
   "cell_type": "code",
   "execution_count": null,
   "id": "4dc600bb",
   "metadata": {},
   "outputs": [],
   "source": [
    "rf_r2 = r2_score(y_test, rforest_predictions)\n",
    "lr_r2 = r2_score(y_test, linreg_predictions)\n",
    "gb_r2 = r2_score(y_test, gradboost_predictions)"
   ]
  },
  {
   "cell_type": "markdown",
   "id": "010161ef",
   "metadata": {},
   "source": [
    "## Result"
   ]
  },
  {
   "cell_type": "code",
   "execution_count": null,
   "id": "bb53569e",
   "metadata": {},
   "outputs": [],
   "source": [
    "results = pd.DataFrame({\n",
    "    'Model': ['Random Forest', 'Linear Regression', 'Gradient Boosting'],\n",
    "    'MSE': [rf_mse, lr_mse, gb_mse],\n",
    "    'R-squared': [rf_r2, lr_r2, gb_r2]\n",
    "})"
   ]
  }
 ],
 "metadata": {
  "kernelspec": {
   "display_name": "Python 3 (ipykernel)",
   "language": "python",
   "name": "python3"
  },
  "language_info": {
   "codemirror_mode": {
    "name": "ipython",
    "version": 3
   },
   "file_extension": ".py",
   "mimetype": "text/x-python",
   "name": "python",
   "nbconvert_exporter": "python",
   "pygments_lexer": "ipython3",
   "version": "3.11.5"
  }
 },
 "nbformat": 4,
 "nbformat_minor": 5
}
